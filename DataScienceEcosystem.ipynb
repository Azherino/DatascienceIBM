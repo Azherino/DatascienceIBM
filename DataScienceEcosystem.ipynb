{
 "cells": [
  {
   "cell_type": "markdown",
   "metadata": {},
   "source": [
    "Data Science Tools and Ecosystem"
   ]
  },
  {
   "cell_type": "markdown",
   "metadata": {},
   "source": [
    "In this notebook, Data Science Tools and Ecosystem are summarized."
   ]
  },
  {
   "cell_type": "markdown",
   "metadata": {},
   "source": [
    "## Objectives:\n",
    "\n",
    "* List popular languages for Data Science\n",
    "* Create a code cell to multiply and add numbers\n",
    "* List libraries in data science \n",
    "* List Data tools in single column"
   ]
  },
  {
   "cell_type": "markdown",
   "metadata": {},
   "source": [
    "Some of the popular languages that Data Scientists use are:\n",
    "1.Python \n",
    "2.R\n",
    "3.SQL\n",
    "4.Scala\n",
    "5.Java\n",
    "6.C++\n",
    "7.Julia."
   ]
  },
  {
   "cell_type": "markdown",
   "metadata": {},
   "source": [
    "Some of the commonly used libraries used by Data Scientists include:\n",
    "1.Scikit-learn \n",
    "2.TensorFlow\n",
    "3.Apache Sparks\n",
    "4.keras\n",
    "5.PyTroch\n",
    "6.Pandas"
   ]
  },
  {
   "cell_type": "markdown",
   "metadata": {},
   "source": [
    "| Data Science Tools |\n",
    "|---|---|\n",
    "| Jupyterlab |\n",
    "| Visual Studio Code |\n",
    "| Google Colab |"
   ]
  },
  {
   "cell_type": "markdown",
   "metadata": {},
   "source": [
    "these are a few examples show how to evaluate the basic arithmetic operations in Python.\n",
    "*Addition: print(1 + 2)\n",
    "*Subtraction: print(5 - 3)\n",
    "*Multiplication: print(2 * 3)\n",
    "*Division: print(10 / 2)"
   ]
  },
  {
   "cell_type": "code",
   "execution_count": 2,
   "metadata": {},
   "outputs": [
    {
     "name": "stdout",
     "output_type": "stream",
     "text": [
      "17\n"
     ]
    }
   ],
   "source": [
    "#this is a simple arithmetic expression to mutiply and add integer\n",
    "\n",
    "a = (3*4)+5\n",
    "print(a)"
   ]
  },
  {
   "cell_type": "code",
   "execution_count": 5,
   "metadata": {},
   "outputs": [
    {
     "name": "stdout",
     "output_type": "stream",
     "text": [
      "3.3333333333333335\n"
     ]
    }
   ],
   "source": [
    "#This code will convert 200 minutes to hours by divided it with 60 minutes\n",
    "\n",
    "a = 200 \n",
    "b = 60 \n",
    "c = 200 / 60\n",
    "\n",
    "print(c)"
   ]
  },
  {
   "cell_type": "markdown",
   "metadata": {},
   "source": [
    "## Author \n",
    "Azherino Hadyan P"
   ]
  }
 ],
 "metadata": {
  "kernelspec": {
   "display_name": "Python 3",
   "language": "python",
   "name": "python3"
  },
  "language_info": {
   "codemirror_mode": {
    "name": "ipython",
    "version": 3
   },
   "file_extension": ".py",
   "mimetype": "text/x-python",
   "name": "python",
   "nbconvert_exporter": "python",
   "pygments_lexer": "ipython3",
   "version": "3.10.11"
  },
  "orig_nbformat": 4
 },
 "nbformat": 4,
 "nbformat_minor": 2
}
